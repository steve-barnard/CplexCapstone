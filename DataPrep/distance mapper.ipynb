{
 "cells": [
  {
   "cell_type": "code",
   "execution_count": 39,
   "metadata": {},
   "outputs": [
    {
     "name": "stdout",
     "output_type": "stream",
     "text": [
      "324\n",
      "5\n"
     ]
    }
   ],
   "source": [
    "import urllib.request\n",
    "import json\n",
    "\n",
    "# Your Bing Maps Key \n",
    "bingMapsKey = \"AhV9mA0UagDnVW1_-j1qcw8_Vm-W7s5lsBZhF9KDhrzVIBXXiAEDfH6MAPv9X3Kh\"\n",
    "\n",
    "# input information\n",
    "# longitude = -122.019943\n",
    "# latitude = 37.285989\n",
    "Origin = \"45236\"\n",
    "Destination = \"60188\"\n",
    "\n",
    "encodedOrg = urllib.parse.quote(Origin, safe='')\n",
    "encodedDest = urllib.parse.quote(Destination, safe='')\n",
    "\n",
    "routeUrl = \"http://dev.virtualearth.net/REST/V1/Routes/Driving?wp.0=\" + encodedOrg + \"&wp.1=\" + encodedDest +\"distanceUnit={Km}&optimize=time&key=\" + bingMapsKey\n",
    "\n",
    "request = urllib.request.Request(routeUrl)\n",
    "response = urllib.request.urlopen(request)\n",
    "\n",
    "r = response.read().decode(encoding=\"utf-8\")\n",
    "result = json.loads(r)\n",
    "\n",
    "\n",
    "\n",
    "print(round(int(result[\"resourceSets\"][0][\"resources\"][0][\"travelDistance\"])/1.60934)) #travel distance in miles\n",
    "print(round(result[\"resourceSets\"][0][\"resources\"][0][\"travelDuration\"]/3600)) # travel time in hours\n"
   ]
  },
  {
   "cell_type": "code",
   "execution_count": null,
   "metadata": {},
   "outputs": [],
   "source": []
  }
 ],
 "metadata": {
  "kernelspec": {
   "display_name": "Python 3",
   "language": "python",
   "name": "python3"
  },
  "language_info": {
   "codemirror_mode": {
    "name": "ipython",
    "version": 3
   },
   "file_extension": ".py",
   "mimetype": "text/x-python",
   "name": "python",
   "nbconvert_exporter": "python",
   "pygments_lexer": "ipython3",
   "version": "3.7.3"
  }
 },
 "nbformat": 4,
 "nbformat_minor": 2
}
