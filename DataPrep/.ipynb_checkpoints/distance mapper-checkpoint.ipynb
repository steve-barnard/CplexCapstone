{
 "cells": [
  {
   "cell_type": "code",
   "execution_count": 1,
   "metadata": {},
   "outputs": [],
   "source": [
    "import pandas as pd\n",
    "import numpy as np\n",
    "from itertools import combinations_with_replacement \n",
    "from time import sleep"
   ]
  },
  {
   "cell_type": "code",
   "execution_count": 2,
   "metadata": {},
   "outputs": [],
   "source": [
    "import urllib.request\n",
    "import json\n",
    "\n",
    "# Your Bing Maps Key \n",
    "bingMapsKey = \"AhV9mA0UagDnVW1_-j1qcw8_Vm-W7s5lsBZhF9KDhrzVIBXXiAEDfH6MAPv9X3Kh\" #my bing API key"
   ]
  },
  {
   "cell_type": "code",
   "execution_count": 3,
   "metadata": {},
   "outputs": [],
   "source": [
    "node_df = pd.read_csv(r'node_zip_cap.csv',converters={i: str for i in range(165)}) #keeps the 0 in front of 4 digit zips\n",
    "# pathID_df = pd.read_csv(r'PathID_demand.csv')"
   ]
  },
  {
   "cell_type": "code",
   "execution_count": 4,
   "metadata": {},
   "outputs": [
    {
     "data": {
      "text/html": [
       "<div>\n",
       "<style scoped>\n",
       "    .dataframe tbody tr th:only-of-type {\n",
       "        vertical-align: middle;\n",
       "    }\n",
       "\n",
       "    .dataframe tbody tr th {\n",
       "        vertical-align: top;\n",
       "    }\n",
       "\n",
       "    .dataframe thead th {\n",
       "        text-align: right;\n",
       "    }\n",
       "</style>\n",
       "<table border=\"1\" class=\"dataframe\">\n",
       "  <thead>\n",
       "    <tr style=\"text-align: right;\">\n",
       "      <th></th>\n",
       "      <th>First Origin</th>\n",
       "      <th>ZIP</th>\n",
       "      <th>Capacity</th>\n",
       "    </tr>\n",
       "  </thead>\n",
       "  <tbody>\n",
       "    <tr>\n",
       "      <th>0</th>\n",
       "      <td>11</td>\n",
       "      <td>14219</td>\n",
       "      <td>4000</td>\n",
       "    </tr>\n",
       "    <tr>\n",
       "      <th>1</th>\n",
       "      <td>16</td>\n",
       "      <td>13601</td>\n",
       "      <td>7000</td>\n",
       "    </tr>\n",
       "    <tr>\n",
       "      <th>2</th>\n",
       "      <td>17</td>\n",
       "      <td>06457</td>\n",
       "      <td>7000</td>\n",
       "    </tr>\n",
       "    <tr>\n",
       "      <th>3</th>\n",
       "      <td>18</td>\n",
       "      <td>01887</td>\n",
       "      <td>7000</td>\n",
       "    </tr>\n",
       "    <tr>\n",
       "      <th>4</th>\n",
       "      <td>20</td>\n",
       "      <td>13209</td>\n",
       "      <td>4000</td>\n",
       "    </tr>\n",
       "  </tbody>\n",
       "</table>\n",
       "</div>"
      ],
      "text/plain": [
       "  First Origin    ZIP Capacity\n",
       "0           11  14219     4000\n",
       "1           16  13601     7000\n",
       "2           17  06457     7000\n",
       "3           18  01887     7000\n",
       "4           20  13209     4000"
      ]
     },
     "execution_count": 4,
     "metadata": {},
     "output_type": "execute_result"
    }
   ],
   "source": [
    "node_df.head() #should have 165 total nodes len(node_df['ZIP'])"
   ]
  },
  {
   "cell_type": "code",
   "execution_count": 5,
   "metadata": {},
   "outputs": [],
   "source": [
    "comb = combinations_with_replacement(node_df['ZIP'], 2) "
   ]
  },
  {
   "cell_type": "code",
   "execution_count": 6,
   "metadata": {},
   "outputs": [],
   "source": [
    "comb_list = []\n",
    "for i in comb:\n",
    "    comb_list.append(i)"
   ]
  },
  {
   "cell_type": "code",
   "execution_count": 7,
   "metadata": {},
   "outputs": [
    {
     "data": {
      "text/plain": [
       "13695"
      ]
     },
     "execution_count": 7,
     "metadata": {},
     "output_type": "execute_result"
    }
   ],
   "source": [
    "len(comb_list) # should be 13695"
   ]
  },
  {
   "cell_type": "code",
   "execution_count": 8,
   "metadata": {},
   "outputs": [],
   "source": [
    "comb_set = set(comb_list)\n",
    "comb_list = list(comb_set)"
   ]
  },
  {
   "cell_type": "code",
   "execution_count": 9,
   "metadata": {},
   "outputs": [
    {
     "data": {
      "text/plain": [
       "3012"
      ]
     },
     "execution_count": 9,
     "metadata": {},
     "output_type": "execute_result"
    }
   ],
   "source": [
    "len(comb_list) #should be 3012"
   ]
  },
  {
   "cell_type": "code",
   "execution_count": 10,
   "metadata": {},
   "outputs": [],
   "source": [
    "df_dist = pd.DataFrame(index=np.arange(0, len(comb_list)),columns = ('Origin', 'Destination', 'Distance', 'Time'))"
   ]
  },
  {
   "cell_type": "code",
   "execution_count": 11,
   "metadata": {},
   "outputs": [
    {
     "data": {
      "text/html": [
       "<div>\n",
       "<style scoped>\n",
       "    .dataframe tbody tr th:only-of-type {\n",
       "        vertical-align: middle;\n",
       "    }\n",
       "\n",
       "    .dataframe tbody tr th {\n",
       "        vertical-align: top;\n",
       "    }\n",
       "\n",
       "    .dataframe thead th {\n",
       "        text-align: right;\n",
       "    }\n",
       "</style>\n",
       "<table border=\"1\" class=\"dataframe\">\n",
       "  <thead>\n",
       "    <tr style=\"text-align: right;\">\n",
       "      <th></th>\n",
       "      <th>Origin</th>\n",
       "      <th>Destination</th>\n",
       "      <th>Distance</th>\n",
       "      <th>Time</th>\n",
       "    </tr>\n",
       "  </thead>\n",
       "  <tbody>\n",
       "    <tr>\n",
       "      <th>0</th>\n",
       "      <td>NaN</td>\n",
       "      <td>NaN</td>\n",
       "      <td>NaN</td>\n",
       "      <td>NaN</td>\n",
       "    </tr>\n",
       "    <tr>\n",
       "      <th>1</th>\n",
       "      <td>NaN</td>\n",
       "      <td>NaN</td>\n",
       "      <td>NaN</td>\n",
       "      <td>NaN</td>\n",
       "    </tr>\n",
       "    <tr>\n",
       "      <th>2</th>\n",
       "      <td>NaN</td>\n",
       "      <td>NaN</td>\n",
       "      <td>NaN</td>\n",
       "      <td>NaN</td>\n",
       "    </tr>\n",
       "    <tr>\n",
       "      <th>3</th>\n",
       "      <td>NaN</td>\n",
       "      <td>NaN</td>\n",
       "      <td>NaN</td>\n",
       "      <td>NaN</td>\n",
       "    </tr>\n",
       "    <tr>\n",
       "      <th>4</th>\n",
       "      <td>NaN</td>\n",
       "      <td>NaN</td>\n",
       "      <td>NaN</td>\n",
       "      <td>NaN</td>\n",
       "    </tr>\n",
       "    <tr>\n",
       "      <th>5</th>\n",
       "      <td>NaN</td>\n",
       "      <td>NaN</td>\n",
       "      <td>NaN</td>\n",
       "      <td>NaN</td>\n",
       "    </tr>\n",
       "    <tr>\n",
       "      <th>6</th>\n",
       "      <td>NaN</td>\n",
       "      <td>NaN</td>\n",
       "      <td>NaN</td>\n",
       "      <td>NaN</td>\n",
       "    </tr>\n",
       "    <tr>\n",
       "      <th>7</th>\n",
       "      <td>NaN</td>\n",
       "      <td>NaN</td>\n",
       "      <td>NaN</td>\n",
       "      <td>NaN</td>\n",
       "    </tr>\n",
       "    <tr>\n",
       "      <th>8</th>\n",
       "      <td>NaN</td>\n",
       "      <td>NaN</td>\n",
       "      <td>NaN</td>\n",
       "      <td>NaN</td>\n",
       "    </tr>\n",
       "    <tr>\n",
       "      <th>9</th>\n",
       "      <td>NaN</td>\n",
       "      <td>NaN</td>\n",
       "      <td>NaN</td>\n",
       "      <td>NaN</td>\n",
       "    </tr>\n",
       "  </tbody>\n",
       "</table>\n",
       "</div>"
      ],
      "text/plain": [
       "  Origin Destination Distance Time\n",
       "0    NaN         NaN      NaN  NaN\n",
       "1    NaN         NaN      NaN  NaN\n",
       "2    NaN         NaN      NaN  NaN\n",
       "3    NaN         NaN      NaN  NaN\n",
       "4    NaN         NaN      NaN  NaN\n",
       "5    NaN         NaN      NaN  NaN\n",
       "6    NaN         NaN      NaN  NaN\n",
       "7    NaN         NaN      NaN  NaN\n",
       "8    NaN         NaN      NaN  NaN\n",
       "9    NaN         NaN      NaN  NaN"
      ]
     },
     "execution_count": 11,
     "metadata": {},
     "output_type": "execute_result"
    }
   ],
   "source": [
    "df_dist.head(10)"
   ]
  },
  {
   "cell_type": "code",
   "execution_count": null,
   "metadata": {},
   "outputs": [
    {
     "name": "stdout",
     "output_type": "stream",
     "text": [
      "42.880849651510125   \r"
     ]
    }
   ],
   "source": [
    "for i in range(len(comb_list)):\n",
    "    try:\n",
    "        Origin = comb_list[i][0]\n",
    "        Destination = comb_list[i][1]\n",
    "        \n",
    "        df_dist.at[i, 'Origin']=Origin\n",
    "        df_dist.at[i, 'Destination']=Destination\n",
    "        \n",
    "        \n",
    "        encodedOrg = urllib.parse.quote(Origin, safe='')\n",
    "        encodedDest = urllib.parse.quote(Destination, safe='')\n",
    "        \n",
    "        routeUrl = \"http://dev.virtualearth.net/REST/V1/Routes/Driving?wp.0=\" + encodedOrg + \"&wp.1=\" + encodedDest +\"distanceUnit={Km}&optimize=time&key=\" + bingMapsKey\n",
    "    \n",
    "        request = urllib.request.Request(routeUrl)\n",
    "        response = urllib.request.urlopen(request)\n",
    "        r = response.read().decode(encoding=\"utf-8\")\n",
    "        result = json.loads(r)\n",
    "        \n",
    "        df_dist.at[i, 'Distance']= round(int(result[\"resourceSets\"][0][\"resources\"][0][\"travelDistance\"])/1.60934)\n",
    "        df_dist.at[i, 'Time']= round(result[\"resourceSets\"][0][\"resources\"][0][\"travelDuration\"]/3600)\n",
    "\n",
    "    except:\n",
    "        try:\n",
    "            routeUrl = \"http://dev.virtualearth.net/REST/V1/Routes/Driving?wp.0=\" + encodedDest + \"&wp.1=\" + encodedOrg +\"distanceUnit={Km}&optimize=time&key=\" + bingMapsKey\n",
    "        \n",
    "            request = urllib.request.Request(routeUrl)\n",
    "            response = urllib.request.urlopen(request)\n",
    "            r = response.read().decode(encoding=\"utf-8\")\n",
    "            result = json.loads(r)\n",
    "            \n",
    "            df_dist.at[i, 'Distance']= round(int(result[\"resourceSets\"][0][\"resources\"][0][\"travelDistance\"])/1.60934)\n",
    "            df_dist.at[i, 'Time']= round(result[\"resourceSets\"][0][\"resources\"][0][\"travelDuration\"]/3600)\n",
    "        except:\n",
    "            pass\n",
    "    print((i/(len(comb_list)+1))*100,'\\r',end=\"\")"
   ]
  },
  {
   "cell_type": "code",
   "execution_count": null,
   "metadata": {},
   "outputs": [],
   "source": [
    "df_dist.head(100)"
   ]
  },
  {
   "cell_type": "code",
   "execution_count": null,
   "metadata": {},
   "outputs": [],
   "source": [
    "df_dist.to_csv(r'distance_data.csv') #fill in the NANs by swapping the API reasds for dist/origin, should still work"
   ]
  },
  {
   "cell_type": "code",
   "execution_count": null,
   "metadata": {},
   "outputs": [],
   "source": [
    "# import urllib.request\n",
    "# import json\n",
    "\n",
    "# # Your Bing Maps Key \n",
    "# bingMapsKey = \"AhV9mA0UagDnVW1_-j1qcw8_Vm-W7s5lsBZhF9KDhrzVIBXXiAEDfH6MAPv9X3Kh\"\n",
    "\n",
    "# input information\n",
    "# longitude = -122.019943\n",
    "# latitude = 37.285989\n",
    "Origin = \"17339\"\n",
    "Destination = \"14219\"\n",
    "\n",
    "encodedOrg = urllib.parse.quote(Origin, safe='')\n",
    "encodedDest = urllib.parse.quote(Destination, safe='')\n",
    "\n",
    "routeUrl = \"http://dev.virtualearth.net/REST/V1/Routes/Driving?wp.0=\" + encodedOrg + \"&wp.1=\" + encodedDest +\"distanceUnit={Km}&optimize=time&key=\" + bingMapsKey\n",
    "\n",
    "request = urllib.request.Request(routeUrl)\n",
    "response = urllib.request.urlopen(request)\n",
    "\n",
    "r = response.read().decode(encoding=\"utf-8\")\n",
    "result = json.loads(r)\n",
    "\n",
    "\n",
    "\n",
    "print(round(int(result[\"resourceSets\"][0][\"resources\"][0][\"travelDistance\"])/1.60934)) #travel distance in miles\n",
    "print(round(result[\"resourceSets\"][0][\"resources\"][0][\"travelDuration\"]/3600)) # travel time in hours\n"
   ]
  },
  {
   "cell_type": "code",
   "execution_count": null,
   "metadata": {},
   "outputs": [],
   "source": [
    "for i in range(1):\n",
    "    try:\n",
    "        Origin = \"16063\"\n",
    "        Destination = \"17339\"\n",
    "        \n",
    "        encodedOrg = urllib.parse.quote(Origin, safe='')\n",
    "        encodedDest = urllib.parse.quote(Destination, safe='')\n",
    "        \n",
    "        routeUrl = \"http://dev.virtualearth.net/REST/V1/Routes/Driving?wp.0=\" + encodedOrg + \"&wp.1=\" + encodedDest +\"distanceUnit={Km}&optimize=time&key=\" + bingMapsKey\n",
    "        \n",
    "        request = urllib.request.Request(routeUrl)\n",
    "        response = urllib.request.urlopen(request)\n",
    "        \n",
    "        r = response.read().decode(encoding=\"utf-8\")\n",
    "        result = json.loads(r)\n",
    "        \n",
    "        \n",
    "        \n",
    "        print(round(int(result[\"resourceSets\"][0][\"resources\"][0][\"travelDistance\"])/1.60934)) #travel distance in miles\n",
    "        print(round(result[\"resourceSets\"][0][\"resources\"][0][\"travelDuration\"]/3600)) # travel time in hours\n",
    "        \n",
    "    except:\n",
    "        routeUrl = \"http://dev.virtualearth.net/REST/V1/Routes/Driving?wp.0=\" + encodedDest + \"&wp.1=\" +encodedOrg +\"distanceUnit={Km}&optimize=time&key=\" + bingMapsKey\n",
    "        \n",
    "        request = urllib.request.Request(routeUrl)\n",
    "        response = urllib.request.urlopen(request)\n",
    "        \n",
    "        r = response.read().decode(encoding=\"utf-8\")\n",
    "        result = json.loads(r)\n",
    "        \n",
    "        \n",
    "        \n",
    "        print(round(int(result[\"resourceSets\"][0][\"resources\"][0][\"travelDistance\"])/1.60934)) #travel distance in miles\n",
    "        print(round(result[\"resourceSets\"][0][\"resources\"][0][\"travelDuration\"]/3600)) # travel time in hours\n",
    "    finally:\n",
    "        pass"
   ]
  },
  {
   "cell_type": "code",
   "execution_count": null,
   "metadata": {},
   "outputs": [],
   "source": []
  }
 ],
 "metadata": {
  "kernelspec": {
   "display_name": "Python 3",
   "language": "python",
   "name": "python3"
  },
  "language_info": {
   "codemirror_mode": {
    "name": "ipython",
    "version": 3
   },
   "file_extension": ".py",
   "mimetype": "text/x-python",
   "name": "python",
   "nbconvert_exporter": "python",
   "pygments_lexer": "ipython3",
   "version": "3.7.1"
  }
 },
 "nbformat": 4,
 "nbformat_minor": 2
}
