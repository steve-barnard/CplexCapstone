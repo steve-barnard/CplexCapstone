{
 "cells": [
  {
   "cell_type": "markdown",
   "metadata": {},
   "source": [
    "<b>CAPSTONE - OTP Selection as Multi-Commodity Flow Problem</b>"
   ]
  },
  {
   "cell_type": "code",
   "execution_count": 21,
   "metadata": {},
   "outputs": [],
   "source": [
    "Nodes = {'103','114','100','89','104'}\n",
    "Distance = { ('103','114') : 3, ('114','100') : 3, ('104','89') : 35, ('89','100') : 45}\n",
    "Capacity = { ('104') : 1000, ('103') : 9000, ('100') : 4000,('89') : 999999, ('114'):9000}\n",
    "\n",
    "Arcs = { (i,j) for (i,j) in Distance}\n",
    "\n",
    "Commodities = {'103-100', '104-100'}\n",
    "Origin = { '103-100' : '103', '104-100' : '104' }\n",
    "Destination = { '103-100' : '100', '104-100' : '100' }\n",
    "\n",
    "Volume = { '103-100' : 2001, '104-100' : 2000 }"
   ]
  },
  {
   "cell_type": "code",
   "execution_count": 22,
   "metadata": {},
   "outputs": [],
   "source": [
    "# define supply/demand for each node and each commodity\n",
    "Supply = {}\n",
    "for i in Nodes:\n",
    "    for k in Commodities:\n",
    "        if i==Origin[k]:\n",
    "            Supply[i,k] = -Volume[k]\n",
    "        elif i==Destination[k]:\n",
    "            Supply[i,k] = Volume[k]\n",
    "        else:\n",
    "            Supply[i,k] = 0"
   ]
  },
  {
   "cell_type": "code",
   "execution_count": 23,
   "metadata": {},
   "outputs": [],
   "source": [
    "# define a set of arc/commodity pairs (useful for variables)\n",
    "ArcCommodities = { (i,j,k) for (i,j) in Arcs for k in Commodities }"
   ]
  },
  {
   "cell_type": "code",
   "execution_count": 24,
   "metadata": {},
   "outputs": [
    {
     "data": {
      "text/plain": [
       "{('103', '114', '103-100'),\n",
       " ('103', '114', '104-100'),\n",
       " ('104', '89', '103-100'),\n",
       " ('104', '89', '104-100'),\n",
       " ('114', '100', '103-100'),\n",
       " ('114', '100', '104-100'),\n",
       " ('89', '100', '103-100'),\n",
       " ('89', '100', '104-100')}"
      ]
     },
     "execution_count": 24,
     "metadata": {},
     "output_type": "execute_result"
    }
   ],
   "source": [
    "ArcCommodities # NOT SURE IF THIS IS RIGHT\n",
    "#sum of volume at J for all K must me less than Capacity"
   ]
  },
  {
   "cell_type": "code",
   "execution_count": 25,
   "metadata": {},
   "outputs": [],
   "source": [
    "from docplex.mp.model import Model\n",
    "mdl = Model()"
   ]
  },
  {
   "cell_type": "code",
   "execution_count": 26,
   "metadata": {},
   "outputs": [],
   "source": [
    "# define variables\n",
    "shipped = mdl.continuous_var_dict(ArcCommodities, lb=0, name='shipped')"
   ]
  },
  {
   "cell_type": "code",
   "execution_count": 27,
   "metadata": {},
   "outputs": [],
   "source": [
    "# objective\n",
    "mdl.minimize(mdl.sum(Distance[i,j]*shipped[i,j,k] for (i,j,k) in shipped))"
   ]
  },
  {
   "cell_type": "code",
   "execution_count": 28,
   "metadata": {},
   "outputs": [],
   "source": [
    "# flow balance constraints for each commodity and for each node\n",
    "for k in Commodities:\n",
    "    for j in Nodes:\n",
    "        inflow = sum(shipped[i,j,k] for i in Nodes if (i,j) in Arcs)\n",
    "        outflow = sum(shipped[j,i,k] for i in Nodes if (j,i) in Arcs)\n",
    "        mdl.add_constraint(inflow - outflow == Supply[j,k])"
   ]
  },
  {
   "cell_type": "code",
   "execution_count": 42,
   "metadata": {},
   "outputs": [
    {
     "name": "stdout",
     "output_type": "stream",
     "text": [
      "shipped_89_100_104-100+shipped_89_100_103-100\n",
      "shipped_114_100_104-100+shipped_114_100_103-100\n",
      "shipped_104_89_103-100+shipped_104_89_104-100\n",
      "shipped_103_114_104-100+shipped_103_114_103-100\n"
     ]
    }
   ],
   "source": [
    "# define arc capacity constraints (over all commodities) #this is not right\n",
    "for (i,j) in Arcs:\n",
    "    mdl.add_constraint(mdl.sum(shipped[i,j,k] for k in Commodities) <= Capacity[j])\n",
    "    print(mdl.sum(shipped[i,j,k] for k in Commodities))"
   ]
  },
  {
   "cell_type": "code",
   "execution_count": 30,
   "metadata": {},
   "outputs": [
    {
     "data": {
      "text/plain": [
       "docplex.mp.SolveDetails(time=0,status='optimal')"
      ]
     },
     "execution_count": 30,
     "metadata": {},
     "output_type": "execute_result"
    }
   ],
   "source": [
    "# solve\n",
    "mdl.solve()\n",
    "mdl.get_solve_details()"
   ]
  },
  {
   "cell_type": "code",
   "execution_count": 31,
   "metadata": {
    "scrolled": true
   },
   "outputs": [
    {
     "name": "stdout",
     "output_type": "stream",
     "text": [
      "objective: 172006.000\n",
      "  shipped_89_100_104-100=2000.000\n",
      "  shipped_103_114_103-100=2001.000\n",
      "  shipped_114_100_103-100=2001.000\n",
      "  shipped_104_89_104-100=2000.000\n"
     ]
    }
   ],
   "source": [
    "mdl.print_solution()"
   ]
  },
  {
   "cell_type": "code",
   "execution_count": 32,
   "metadata": {},
   "outputs": [
    {
     "name": "stdout",
     "output_type": "stream",
     "text": [
      "Commodity: 104-100\n",
      "89 -> 100\n",
      "104 -> 89\n",
      "Commodity: 103-100\n",
      "114 -> 100\n",
      "103 -> 114\n"
     ]
    }
   ],
   "source": [
    "for k in Commodities:\n",
    "    print(\"Commodity: \" + k)\n",
    "    for (i,j) in Arcs:\n",
    "        if shipped[i,j,k].solution_value >= 0.99:\n",
    "            print(i+\" -> \"+j)"
   ]
  },
  {
   "cell_type": "code",
   "execution_count": null,
   "metadata": {},
   "outputs": [],
   "source": []
  }
 ],
 "metadata": {
  "kernelspec": {
   "display_name": "Python 3",
   "language": "python",
   "name": "python3"
  },
  "language_info": {
   "codemirror_mode": {
    "name": "ipython",
    "version": 3
   },
   "file_extension": ".py",
   "mimetype": "text/x-python",
   "name": "python",
   "nbconvert_exporter": "python",
   "pygments_lexer": "ipython3",
   "version": "3.6.8"
  }
 },
 "nbformat": 4,
 "nbformat_minor": 2
}
