{
 "cells": [
  {
   "cell_type": "markdown",
   "metadata": {},
   "source": [
    "<b>CAPSTONE - OTP Selection as Multi-Commodity Flow Problem</b>"
   ]
  },
  {
   "cell_type": "code",
   "execution_count": 1,
   "metadata": {},
   "outputs": [],
   "source": [
    "# !pip install pandas"
   ]
  },
  {
   "cell_type": "code",
   "execution_count": 2,
   "metadata": {},
   "outputs": [],
   "source": [
    "import pandas as pd"
   ]
  },
  {
   "cell_type": "code",
   "execution_count": 3,
   "metadata": {},
   "outputs": [],
   "source": [
    "df = pd.read_csv(\"Eastern 88 related OD pairs1.csv\")"
   ]
  },
  {
   "cell_type": "code",
   "execution_count": 4,
   "metadata": {},
   "outputs": [],
   "source": [
    "df['Min. Approximate Throughput'] = df['Min. Approximate Throughput'].fillna(99999) #hubs w/high capacity but show as NA"
   ]
  },
  {
   "cell_type": "code",
   "execution_count": 5,
   "metadata": {},
   "outputs": [],
   "source": [
    "distance_df = pd.read_csv('FedEx Miles and service CMU 2.csv') #correct csv form fedex"
   ]
  },
  {
   "cell_type": "markdown",
   "metadata": {},
   "source": [
    "### find correct throughput csv"
   ]
  },
  {
   "cell_type": "code",
   "execution_count": 6,
   "metadata": {},
   "outputs": [],
   "source": [
    "node_cap_df = pd.read_csv('node_zip_cap.csv') #need a correct csv for this --- TODO ---*****"
   ]
  },
  {
   "cell_type": "code",
   "execution_count": 7,
   "metadata": {},
   "outputs": [],
   "source": [
    "Commodities = set(df['Origin - Dest ID'])"
   ]
  },
  {
   "cell_type": "code",
   "execution_count": 8,
   "metadata": {},
   "outputs": [],
   "source": [
    "LaneRoutes = set(df['Lane Route'])"
   ]
  },
  {
   "cell_type": "code",
   "execution_count": 9,
   "metadata": {},
   "outputs": [],
   "source": [
    "Origin = {}\n",
    "Destination = {}\n",
    "Nodes = {}\n",
    "Distance = {}\n",
    "ADV = {}\n",
    "Throughput = {}"
   ]
  },
  {
   "cell_type": "code",
   "execution_count": 10,
   "metadata": {},
   "outputs": [],
   "source": [
    "NodesList=df['Lane Route'].str.split('-')\n",
    "# output list\n",
    "output = []\n",
    "def reemovNestings(l):\n",
    "    for i in l:\n",
    "        if type(i) == list:\n",
    "            reemovNestings(i)\n",
    "        else:\n",
    "            output.append(i)\n",
    "reemovNestings(NodesList)\n",
    "Nodes = set(output)"
   ]
  },
  {
   "cell_type": "code",
   "execution_count": 11,
   "metadata": {},
   "outputs": [],
   "source": [
    "for i in LaneRoutes:\n",
    "    LR1= i.split('-')[0]\n",
    "    LR2 = i.split('-')[1]\n",
    "    Distance[(LR1,LR2)] = int(df[df['Lane Route']==i]['Final Miles'])\n",
    "    for j in Nodes:\n",
    "        Throughput[j] = int(node_cap_df[node_cap_df['First Origin']==int(j)]['Capacity'])"
   ]
  },
  {
   "cell_type": "code",
   "execution_count": 12,
   "metadata": {},
   "outputs": [],
   "source": [
    "def AddOTP(x):\n",
    "    Nodes.add(x)\n",
    "    Throughput[x] = int(node_cap_df[node_cap_df['First Origin']==int(x)]['Capacity'])\n",
    "    for i in Nodes:\n",
    "        if i != x:\n",
    "            Distance[(str(i),str(x))]=int(distance_df[(distance_df['Origin ID']==int(i)) & (distance_df['Dest ID']==int(x))]['Final Miles'])"
   ]
  },
  {
   "cell_type": "code",
   "execution_count": 13,
   "metadata": {},
   "outputs": [],
   "source": [
    "for i in Commodities:\n",
    "    Origin[i]= i.split('-')[0]\n",
    "    Destination[i] = i.split('-')[1]\n",
    "    ADV[i] = int(list(set(df[df['Origin - Dest ID']==i]['ADV [Corrected]'].values))[0])"
   ]
  },
  {
   "cell_type": "code",
   "execution_count": 14,
   "metadata": {},
   "outputs": [],
   "source": [
    "def printsummary():\n",
    "    print('Nodes: \\n', Nodes,'\\n\\n',\n",
    "          'Distance: \\n',Distance,'\\n\\n',\n",
    "          'Throughput: \\n',Throughput,'\\n\\n',\n",
    "          'OD-pairs: \\n',Commodities,'\\n\\n',\n",
    "          'ADV: \\n',ADV,'\\n\\n',\n",
    "         )"
   ]
  },
  {
   "cell_type": "code",
   "execution_count": 15,
   "metadata": {},
   "outputs": [
    {
     "name": "stdout",
     "output_type": "stream",
     "text": [
      "Nodes: \n",
      " {'72', '89', '88', '66', '70'} \n",
      "\n",
      " Distance: \n",
      " {('70', '89'): 232, ('72', '70'): 240, ('66', '72'): 976, ('89', '88'): 0} \n",
      "\n",
      " Throughput: \n",
      " {'72': 4000, '89': 15000, '88': 999999, '66': 4000, '70': 15000} \n",
      "\n",
      " OD-pairs: \n",
      " {'66-88'} \n",
      "\n",
      " ADV: \n",
      " {'66-88': 225} \n",
      "\n",
      "\n"
     ]
    }
   ],
   "source": [
    "printsummary()"
   ]
  },
  {
   "cell_type": "markdown",
   "metadata": {},
   "source": [
    "### Add the OTP then check to see that the additional parameters have been added."
   ]
  },
  {
   "cell_type": "code",
   "execution_count": 16,
   "metadata": {},
   "outputs": [],
   "source": [
    "AddOTP('114') #add the OTP in string format"
   ]
  },
  {
   "cell_type": "code",
   "execution_count": 17,
   "metadata": {},
   "outputs": [
    {
     "name": "stdout",
     "output_type": "stream",
     "text": [
      "Nodes: \n",
      " {'72', '89', '114', '88', '66', '70'} \n",
      "\n",
      " Distance: \n",
      " {('70', '89'): 232, ('72', '70'): 240, ('66', '72'): 976, ('89', '88'): 0, ('72', '114'): 39, ('89', '114'): 36, ('88', '114'): 61, ('66', '114'): 89, ('70', '114'): 26} \n",
      "\n",
      " Throughput: \n",
      " {'72': 4000, '89': 15000, '88': 999999, '66': 4000, '70': 15000, '114': 9000} \n",
      "\n",
      " OD-pairs: \n",
      " {'66-88'} \n",
      "\n",
      " ADV: \n",
      " {'66-88': 225} \n",
      "\n",
      "\n"
     ]
    }
   ],
   "source": [
    "printsummary()"
   ]
  },
  {
   "cell_type": "code",
   "execution_count": 18,
   "metadata": {},
   "outputs": [],
   "source": [
    "Arcs = { (i,j) for (i,j) in Distance}\n",
    "Hours = 3"
   ]
  },
  {
   "cell_type": "code",
   "execution_count": 19,
   "metadata": {},
   "outputs": [],
   "source": [
    "# Transforming Hourly Throughput to Daily Throughput -- if node turned to OTP include a (4/3) multiplier to account for the additional sort\n",
    "for k,v in Throughput.items():\n",
    "    Throughput[k]=Throughput[k]*Hours"
   ]
  },
  {
   "cell_type": "code",
   "execution_count": 20,
   "metadata": {},
   "outputs": [],
   "source": [
    "Supply = {} #set supply and demand for nodes in terms of binary vars\n",
    "for i in Nodes:\n",
    "    for k in Commodities:\n",
    "        if i==Origin[k]:\n",
    "                Supply[i,k] = -1\n",
    "        elif i==Destination[k]:\n",
    "                Supply[i,k] = 1\n",
    "        else:\n",
    "                Supply[i,k] = 0"
   ]
  },
  {
   "cell_type": "code",
   "execution_count": 21,
   "metadata": {},
   "outputs": [
    {
     "data": {
      "text/plain": [
       "{('72', '66-88'): 0,\n",
       " ('89', '66-88'): 0,\n",
       " ('114', '66-88'): 0,\n",
       " ('88', '66-88'): 1,\n",
       " ('66', '66-88'): -1,\n",
       " ('70', '66-88'): 0}"
      ]
     },
     "execution_count": 21,
     "metadata": {},
     "output_type": "execute_result"
    }
   ],
   "source": [
    "Supply"
   ]
  },
  {
   "cell_type": "code",
   "execution_count": 22,
   "metadata": {},
   "outputs": [],
   "source": [
    "# define a set of arc/commodity pairs (useful for variables) these are the LPs\n",
    "ArcCommodities = { (i,j,k) for (i,j) in Arcs for k in Commodities }"
   ]
  },
  {
   "cell_type": "code",
   "execution_count": 23,
   "metadata": {},
   "outputs": [],
   "source": [
    "from docplex.mp.model import Model\n",
    "mdl = Model()"
   ]
  },
  {
   "cell_type": "code",
   "execution_count": 24,
   "metadata": {},
   "outputs": [],
   "source": [
    "# define variables\n",
    "shipped = mdl.continuous_var_dict(ArcCommodities, lb=0, name='shipped')"
   ]
  },
  {
   "cell_type": "code",
   "execution_count": 25,
   "metadata": {},
   "outputs": [],
   "source": [
    "# objective\n",
    "mdl.minimize(mdl.sum(Distance[i,j]*shipped[i,j,k] for (i,j,k) in shipped))"
   ]
  },
  {
   "cell_type": "code",
   "execution_count": 26,
   "metadata": {},
   "outputs": [],
   "source": [
    "# flow balance constraints for each commodity and for each node\n",
    "for k in Commodities:\n",
    "    for j in Nodes:\n",
    "        inflow = sum(shipped[i,j,k] for i in Nodes if (i,j) in Arcs)\n",
    "        outflow = sum(shipped[j,i,k] for i in Nodes if (j,i) in Arcs)\n",
    "        mdl.add_constraint(inflow - outflow == Supply[j,k])"
   ]
  },
  {
   "cell_type": "code",
   "execution_count": 27,
   "metadata": {},
   "outputs": [],
   "source": [
    "# define node capacity constraints (over all commodities)\n",
    "for j in Nodes:\n",
    "    nodeinflow=sum(shipped[i,j,k]*ADV[k] for i in Nodes if (i,j) in Arcs for k in Commodities)\n",
    "    mdl.add_constraint(nodeinflow<=Throughput[j])"
   ]
  },
  {
   "cell_type": "code",
   "execution_count": 28,
   "metadata": {},
   "outputs": [
    {
     "data": {
      "text/plain": [
       "docplex.mp.SolveDetails(time=0,status='optimal')"
      ]
     },
     "execution_count": 28,
     "metadata": {},
     "output_type": "execute_result"
    }
   ],
   "source": [
    "# solve\n",
    "mdl.solve()\n",
    "mdl.get_solve_details()"
   ]
  },
  {
   "cell_type": "code",
   "execution_count": 29,
   "metadata": {},
   "outputs": [
    {
     "name": "stdout",
     "output_type": "stream",
     "text": [
      "objective: 1448.000\n",
      "  shipped_70_89_66-88=1.000\n",
      "  shipped_72_70_66-88=1.000\n",
      "  shipped_89_88_66-88=1.000\n",
      "  shipped_66_72_66-88=1.000\n"
     ]
    }
   ],
   "source": [
    "mdl.print_solution() #objective is mileage cost -- this is baseline or new solution "
   ]
  },
  {
   "cell_type": "markdown",
   "metadata": {},
   "source": [
    "## Baseline = 1448 miles"
   ]
  },
  {
   "cell_type": "code",
   "execution_count": 30,
   "metadata": {},
   "outputs": [
    {
     "name": "stdout",
     "output_type": "stream",
     "text": [
      "Commodity: 66-88\n",
      "72 -> 70\n",
      "89 -> 88\n",
      "66 -> 72\n",
      "70 -> 89\n"
     ]
    }
   ],
   "source": [
    "for k in Commodities:\n",
    "    print(\"Commodity: \" + k)\n",
    "    for (i,j) in Arcs:\n",
    "        if shipped[i,j,k].solution_value >= 0.99:\n",
    "            print(i+\" -> \"+j)"
   ]
  },
  {
   "cell_type": "code",
   "execution_count": null,
   "metadata": {},
   "outputs": [],
   "source": []
  },
  {
   "cell_type": "code",
   "execution_count": null,
   "metadata": {},
   "outputs": [],
   "source": []
  }
 ],
 "metadata": {
  "kernelspec": {
   "display_name": "Python 3",
   "language": "python",
   "name": "python3"
  },
  "language_info": {
   "codemirror_mode": {
    "name": "ipython",
    "version": 3
   },
   "file_extension": ".py",
   "mimetype": "text/x-python",
   "name": "python",
   "nbconvert_exporter": "python",
   "pygments_lexer": "ipython3",
   "version": "3.6.8"
  }
 },
 "nbformat": 4,
 "nbformat_minor": 2
}
