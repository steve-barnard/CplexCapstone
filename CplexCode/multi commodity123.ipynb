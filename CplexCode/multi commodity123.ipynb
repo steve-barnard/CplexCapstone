{
 "cells": [
  {
   "cell_type": "markdown",
   "metadata": {},
   "source": [
    "<b>Multi-Commodity Flow Problem</b>"
   ]
  },
  {
   "cell_type": "code",
   "execution_count": 8,
   "metadata": {},
   "outputs": [],
   "source": [
    "# # data\n",
    "# Nodes = [103,104, 114, 100,89,]\n",
    "# Capacity = { (1,3) : 300, (1,4) : 300, (2,3) : 300, (2,4) : 300, (3,4) : 300, (3,5) : 300, (3,6) : 300, (4,3) : 300, (4,5) : 300, (4,7) : 300, (5,3) : 300, (5,4) : 300, (5,6) : 300, (5,7) : 300, (5,8) : 300, (6,3) : 300, (6,5) : 300, (6,8) : 300, (7,4) : 300, (7,5) : 300, (7,8) : 300, (8,5) : 300, (8,6) : 300, (8,7) : 300 }\n",
    "# Cost = { (1,3) : 20, (1,4) : 35, (2,3) : 45, (2,4) : 30, (3,4) : 25, (3,5) : 25, (3,6) : 34, (4,3) : 25, (4,5) : 26, (4,7) : 31, (5,3) : 25, (5,4) : 26, (5,6) : 29, (5,7) : 26, (5,8) : 28, (6,3) : 34, (6,5) : 29, (6,8) : 37, (7,4) : 31, (7,5) : 26, (7,8) : 40, (8,5) : 28, (8,6) : 37, (8,7) : 40 }\n",
    "# Arcs = { (i,j) for (i,j) in Cost}\n",
    "\n",
    "# # Commodities = {'C1', 'C2', 'C3', 'C4' }\n",
    "# # Origin = { 'C1' : 1, 'C2' : 1, 'C3' : 2, 'C4' : 2 }\n",
    "# # Destination = { 'C1' : 7, 'C2' : 6, 'C3' : 7, 'C4' : 8 }\n",
    "# # Volume = { 'C1' : 200, 'C2' : 300, 'C3' : 150, 'C4' : 240 }\n",
    "\n",
    "\n",
    "# Commodities = {'103-100', 'C2', 'C3', 'C4' }\n",
    "# Origin = { '103-100' : 103, '103-100' : 1, 'C3' : 2, 'C4' : 2 }\n",
    "# Destination = { '103-100' : 100, 'C2' : 6, 'C3' : 7, 'C4' : 8 }\n",
    "# Volume = { '103-100' : 10, 'C2' : 300, 'C3' : 150, 'C4' : 240 }"
   ]
  },
  {
   "cell_type": "code",
   "execution_count": 1,
   "metadata": {},
   "outputs": [],
   "source": [
    "Nodes = {'103','114','100','89','104'}\n",
    "Distance = { ('103','114') : 3, ('114','100') : 3, ('104','89') : 35, ('89','100') : 45}\n",
    "Capacity = { ('104') : 1000, ('103') : 9000, ('100') : 4000,('89') : 999999, ('114'):9000}\n",
    "\n",
    "Arcs = { (i,j) for (i,j) in Distance}\n",
    "\n",
    "Commodities = {'103-100', '104-100'}\n",
    "Origin = { '103-100' : '103', '104-100' : '104' }\n",
    "Destination = { '103-100' : '100', '104-100' : '100' }\n",
    "Volume = { '103-100' : 131, '104-100' : 9 }"
   ]
  },
  {
   "cell_type": "code",
   "execution_count": 2,
   "metadata": {},
   "outputs": [],
   "source": [
    "# define supply/demand for each node and each commodity\n",
    "Supply = {}\n",
    "for i in Nodes:\n",
    "    for k in Commodities:\n",
    "        if i==Origin[k]:\n",
    "            Supply[i,k] = -Volume[k]\n",
    "        elif i==Destination[k]:\n",
    "            Supply[i,k] = Volume[k]\n",
    "        else:\n",
    "            Supply[i,k] = 0\n",
    "       "
   ]
  },
  {
   "cell_type": "code",
   "execution_count": 3,
   "metadata": {},
   "outputs": [
    {
     "data": {
      "text/plain": [
       "{('103', '103-100'): -131,\n",
       " ('103', '104-100'): 0,\n",
       " ('89', '103-100'): 0,\n",
       " ('89', '104-100'): 0,\n",
       " ('100', '103-100'): 131,\n",
       " ('100', '104-100'): 9,\n",
       " ('114', '103-100'): 0,\n",
       " ('114', '104-100'): 0,\n",
       " ('104', '103-100'): 0,\n",
       " ('104', '104-100'): -9}"
      ]
     },
     "execution_count": 3,
     "metadata": {},
     "output_type": "execute_result"
    }
   ],
   "source": [
    "Supply"
   ]
  },
  {
   "cell_type": "code",
   "execution_count": 4,
   "metadata": {},
   "outputs": [],
   "source": [
    "# define a set of arc/commodity pairs (useful for variables)\n",
    "ArcCommodities = { (i,j,k) for (i,j) in Arcs for k in Commodities }"
   ]
  },
  {
   "cell_type": "code",
   "execution_count": 5,
   "metadata": {},
   "outputs": [
    {
     "data": {
      "text/plain": [
       "{('103', '114', '103-100'),\n",
       " ('103', '114', '104-100'),\n",
       " ('104', '89', '103-100'),\n",
       " ('104', '89', '104-100'),\n",
       " ('114', '100', '103-100'),\n",
       " ('114', '100', '104-100'),\n",
       " ('89', '100', '103-100'),\n",
       " ('89', '100', '104-100')}"
      ]
     },
     "execution_count": 5,
     "metadata": {},
     "output_type": "execute_result"
    }
   ],
   "source": [
    "ArcCommodities"
   ]
  },
  {
   "cell_type": "code",
   "execution_count": 6,
   "metadata": {},
   "outputs": [
    {
     "ename": "ModuleNotFoundError",
     "evalue": "No module named 'docplex'",
     "output_type": "error",
     "traceback": [
      "\u001b[1;31m---------------------------------------------------------------------------\u001b[0m",
      "\u001b[1;31mModuleNotFoundError\u001b[0m                       Traceback (most recent call last)",
      "\u001b[1;32m<ipython-input-6-73d8979903cf>\u001b[0m in \u001b[0;36m<module>\u001b[1;34m\u001b[0m\n\u001b[1;32m----> 1\u001b[1;33m \u001b[1;32mfrom\u001b[0m \u001b[0mdocplex\u001b[0m\u001b[1;33m.\u001b[0m\u001b[0mmp\u001b[0m\u001b[1;33m.\u001b[0m\u001b[0mmodel\u001b[0m \u001b[1;32mimport\u001b[0m \u001b[0mModel\u001b[0m\u001b[1;33m\u001b[0m\u001b[1;33m\u001b[0m\u001b[0m\n\u001b[0m\u001b[0;32m      2\u001b[0m \u001b[0mmdl\u001b[0m \u001b[1;33m=\u001b[0m \u001b[0mModel\u001b[0m\u001b[1;33m(\u001b[0m\u001b[1;33m)\u001b[0m\u001b[1;33m\u001b[0m\u001b[1;33m\u001b[0m\u001b[0m\n",
      "\u001b[1;31mModuleNotFoundError\u001b[0m: No module named 'docplex'"
     ]
    }
   ],
   "source": [
    "from docplex.mp.model import Model\n",
    "mdl = Model()"
   ]
  },
  {
   "cell_type": "code",
   "execution_count": 5,
   "metadata": {},
   "outputs": [],
   "source": [
    "# define variables\n",
    "# note that we cannot directly impose upper bounds via 'Capacity[i,j]' as this parameter \n",
    "# cannot be mapped unambiguously onto the tuple (i,j,k) for which the variable is defined.\n",
    "shipped = mdl.continuous_var_dict(ArcCommodities, lb=0, name='shipped')"
   ]
  },
  {
   "cell_type": "code",
   "execution_count": 6,
   "metadata": {},
   "outputs": [],
   "source": [
    "# objective\n",
    "mdl.minimize(mdl.sum(Cost[i,j]*shipped[i,j,k] for (i,j,k) in shipped))"
   ]
  },
  {
   "cell_type": "code",
   "execution_count": 7,
   "metadata": {},
   "outputs": [],
   "source": [
    "# flow balance constraints for each commodity and for each node\n",
    "for k in Commodities:\n",
    "    for j in Nodes:\n",
    "        inflow = sum(shipped[i,j,k] for i in Nodes if (i,j) in Arcs)\n",
    "        outflow = sum(shipped[j,i,k] for i in Nodes if (j,i) in Arcs)\n",
    "        mdl.add_constraint(inflow - outflow == Supply[j,k])"
   ]
  },
  {
   "cell_type": "code",
   "execution_count": 8,
   "metadata": {},
   "outputs": [],
   "source": [
    "# define arc capacity constraints (over all commodities)\n",
    "for (i,j) in Arcs:\n",
    "    mdl.add_constraint(mdl.sum(shipped[i,j,k] for k in Commodities) <= Capacity[i,j])"
   ]
  },
  {
   "cell_type": "code",
   "execution_count": 9,
   "metadata": {},
   "outputs": [
    {
     "data": {
      "text/plain": [
       "docplex.mp.SolveDetails(time=0.016,status='optimal')"
      ]
     },
     "execution_count": 9,
     "metadata": {},
     "output_type": "execute_result"
    }
   ],
   "source": [
    "# solve\n",
    "mdl.solve()\n",
    "mdl.get_solve_details()"
   ]
  },
  {
   "cell_type": "code",
   "execution_count": 10,
   "metadata": {},
   "outputs": [
    {
     "name": "stdout",
     "output_type": "stream",
     "text": [
      "objective: 61020.000\n",
      "  shipped_2_4_C3=150.000\n",
      "  shipped_5_8_C4=240.000\n",
      "  shipped_3_6_C2=300.000\n",
      "  shipped_4_7_C1=150.000\n",
      "  shipped_5_7_C1=50.000\n",
      "  shipped_4_7_C3=150.000\n",
      "  shipped_4_5_C1=50.000\n",
      "  shipped_3_5_C4=90.000\n",
      "  shipped_1_3_C2=300.000\n",
      "  shipped_2_4_C4=150.000\n",
      "  shipped_4_5_C4=150.000\n",
      "  shipped_1_4_C1=200.000\n",
      "  shipped_2_3_C4=90.000\n"
     ]
    }
   ],
   "source": [
    "mdl.print_solution()"
   ]
  }
 ],
 "metadata": {
  "kernelspec": {
   "display_name": "Python 3",
   "language": "python",
   "name": "python3"
  },
  "language_info": {
   "codemirror_mode": {
    "name": "ipython",
    "version": 3
   },
   "file_extension": ".py",
   "mimetype": "text/x-python",
   "name": "python",
   "nbconvert_exporter": "python",
   "pygments_lexer": "ipython3",
   "version": "3.7.1"
  }
 },
 "nbformat": 4,
 "nbformat_minor": 2
}
