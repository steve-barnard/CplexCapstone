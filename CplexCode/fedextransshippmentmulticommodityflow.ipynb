{
 "cells": [
  {
   "cell_type": "markdown",
   "metadata": {},
   "source": [
    "## Section of code to minimize cost and ensure supply demand"
   ]
  },
  {
   "cell_type": "markdown",
   "metadata": {},
   "source": [
    "To account for the trucks, each arc has the followign bounding [0,1000] <br>\n",
    "Confirm how we are defining supply and demand <br>\n",
    "this will also be multicommodity <br>\n",
    "trucks, packages, time, selection[binary vars] <br>\n",
    "each needs their own X(i,j) var<br>\n",
    "what paths to do use in initial running of model?<br>\n",
    "throughput = capacity -- upperbound <br>\n",
    "ADV = Demand"
   ]
  },
  {
   "cell_type": "code",
   "execution_count": 1,
   "metadata": {},
   "outputs": [],
   "source": [
    "# data\n",
    "Nodes = range(1,7)\n",
    "Supply = { 1 : -160, 2 : -200, 3 : 0, 4 : 0, 5 : 180, 6 : 180 } #supply demand\n",
    "UpperBound = { (1,3) : 800, (1,4) : 1250, (1,5) : 800, (1,6) : 28, (2,3) : 800, (2,4) : 12, (2,5) : 26, (2,6) : 25, (3,4) : 6, (3,5) : 16, (3,6) : 17, (4,3) : 6, (4,5) : 14, (4,6) : 16 } \n",
    "Cost = { (1,3) : 8, (1,4) : 13, (1,5) : 25, (1,6) : 28, (2,3) : 15, (2,4) : 12, (2,5) : 26, (2,6) : 25, (3,4) : 6, (3,5) : 16, (3,6) : 17, (4,3) : 6, (4,5) : 14, (4,6) : 16 } \n",
    "Arcs = {(i,j) for (i,j) in Cost}"
   ]
  },
  {
   "cell_type": "code",
   "execution_count": 2,
   "metadata": {},
   "outputs": [],
   "source": [
    "from docplex.mp.model import Model\n",
    "mdl = Model()"
   ]
  },
  {
   "cell_type": "code",
   "execution_count": 3,
   "metadata": {},
   "outputs": [],
   "source": [
    "# variables\n",
    "shipped = mdl.continuous_var_dict(Arcs, lb=0, name='shipped')"
   ]
  },
  {
   "cell_type": "code",
   "execution_count": 4,
   "metadata": {},
   "outputs": [],
   "source": [
    "# objective\n",
    "mdl.minimize(mdl.sum(Cost[i,j]*shipped[i,j] for (i,j) in Arcs))"
   ]
  },
  {
   "cell_type": "code",
   "execution_count": 5,
   "metadata": {},
   "outputs": [],
   "source": [
    "# flow conservation constraints\n",
    "for j in Nodes:\n",
    "    inflow = mdl.sum(shipped[i,j] for i in Nodes if (i,j) in Arcs)\n",
    "    outflow = mdl.sum(shipped[j,i] for i in Nodes if (j,i) in Arcs)\n",
    "    mdl.add_constraint(inflow - outflow == Supply[j])"
   ]
  },
  {
   "cell_type": "code",
   "execution_count": 6,
   "metadata": {},
   "outputs": [
    {
     "data": {
      "text/plain": [
       "docplex.mp.SolveDetails(time=0.031,status='optimal')"
      ]
     },
     "execution_count": 6,
     "metadata": {},
     "output_type": "execute_result"
    }
   ],
   "source": [
    "# solve\n",
    "mdl.solve()\n",
    "mdl.get_solve_details()"
   ]
  },
  {
   "cell_type": "code",
   "execution_count": 7,
   "metadata": {},
   "outputs": [
    {
     "name": "stdout",
     "output_type": "stream",
     "text": [
      "objective: 8860.000\n",
      "  shipped_1_3=160.000\n",
      "  shipped_2_6=180.000\n",
      "  shipped_2_5=20.000\n",
      "  shipped_3_5=160.000\n"
     ]
    }
   ],
   "source": [
    "mdl.print_solution()"
   ]
  },
  {
   "cell_type": "code",
   "execution_count": null,
   "metadata": {},
   "outputs": [],
   "source": []
  }
 ],
 "metadata": {
  "kernelspec": {
   "display_name": "Python 3",
   "language": "python",
   "name": "python3"
  },
  "language_info": {
   "codemirror_mode": {
    "name": "ipython",
    "version": 3
   },
   "file_extension": ".py",
   "mimetype": "text/x-python",
   "name": "python",
   "nbconvert_exporter": "python",
   "pygments_lexer": "ipython3",
   "version": "3.6.8"
  }
 },
 "nbformat": 4,
 "nbformat_minor": 2
}
